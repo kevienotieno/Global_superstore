{
 "cells": [
  {
   "cell_type": "code",
   "execution_count": 11,
   "id": "f1251f57",
   "metadata": {},
   "outputs": [],
   "source": [
    "#loading packages\n",
    "pacman::p_load(tidyverse, tidyr, dplyr, ggplot2, readxl, haven)"
   ]
  },
  {
   "cell_type": "code",
   "execution_count": 12,
   "id": "4814ba72",
   "metadata": {},
   "outputs": [],
   "source": [
    "#reading our datasets\n",
    "stores=read.csv(\"Global Superstore.csv\")"
   ]
  },
  {
   "cell_type": "code",
   "execution_count": 13,
   "id": "768e2619",
   "metadata": {},
   "outputs": [
    {
     "data": {
      "text/html": [
       "<table class=\"dataframe\">\n",
       "<caption>A data.frame: 5 × 24</caption>\n",
       "<thead>\n",
       "\t<tr><th></th><th scope=col>Row.ID</th><th scope=col>Order.ID</th><th scope=col>Order.Date</th><th scope=col>Ship.Date</th><th scope=col>Ship.Mode</th><th scope=col>Customer.ID</th><th scope=col>Customer.Name</th><th scope=col>Segment</th><th scope=col>City</th><th scope=col>State</th><th scope=col>⋯</th><th scope=col>Product.ID</th><th scope=col>Category</th><th scope=col>Sub.Category</th><th scope=col>Product.Name</th><th scope=col>Sales</th><th scope=col>Quantity</th><th scope=col>Discount</th><th scope=col>Profit</th><th scope=col>Shipping.Cost</th><th scope=col>Order.Priority</th></tr>\n",
       "\t<tr><th></th><th scope=col>&lt;int&gt;</th><th scope=col>&lt;chr&gt;</th><th scope=col>&lt;chr&gt;</th><th scope=col>&lt;chr&gt;</th><th scope=col>&lt;chr&gt;</th><th scope=col>&lt;chr&gt;</th><th scope=col>&lt;chr&gt;</th><th scope=col>&lt;chr&gt;</th><th scope=col>&lt;chr&gt;</th><th scope=col>&lt;chr&gt;</th><th scope=col>⋯</th><th scope=col>&lt;chr&gt;</th><th scope=col>&lt;chr&gt;</th><th scope=col>&lt;chr&gt;</th><th scope=col>&lt;chr&gt;</th><th scope=col>&lt;dbl&gt;</th><th scope=col>&lt;int&gt;</th><th scope=col>&lt;dbl&gt;</th><th scope=col>&lt;dbl&gt;</th><th scope=col>&lt;dbl&gt;</th><th scope=col>&lt;chr&gt;</th></tr>\n",
       "</thead>\n",
       "<tbody>\n",
       "\t<tr><th scope=row>1</th><td>32298</td><td>CA-2012-124891 </td><td>31-07-2012</td><td>31-07-2012</td><td>Same Day    </td><td>RH-19495</td><td>Rick Hansen     </td><td>Consumer   </td><td>New York City</td><td>New York       </td><td>⋯</td><td>TEC-AC-10003033 </td><td>Technology</td><td>Accessories</td><td>Plantronics CS510 - Over-the-Head monaural Wireless Headset System</td><td>2309.650</td><td>7</td><td>0.0</td><td> 762.1845</td><td>933.57</td><td>Critical</td></tr>\n",
       "\t<tr><th scope=row>2</th><td>26341</td><td>IN-2013-77878  </td><td>5/2/2013  </td><td>7/2/2013  </td><td>Second Class</td><td>JR-16210</td><td>Justin Ritter   </td><td>Corporate  </td><td>Wollongong   </td><td>New South Wales</td><td>⋯</td><td>FUR-CH-10003950 </td><td>Furniture </td><td>Chairs     </td><td>Novimex Executive Leather Armchair, Black                         </td><td>3709.395</td><td>9</td><td>0.1</td><td>-288.7650</td><td>923.63</td><td>Critical</td></tr>\n",
       "\t<tr><th scope=row>3</th><td>25330</td><td>IN-2013-71249  </td><td>17-10-2013</td><td>18-10-2013</td><td>First Class </td><td>CR-12730</td><td>Craig Reiter    </td><td>Consumer   </td><td>Brisbane     </td><td>Queensland     </td><td>⋯</td><td>TEC-PH-10004664 </td><td>Technology</td><td>Phones     </td><td>Nokia Smart Phone, with Caller ID                                 </td><td>5175.171</td><td>9</td><td>0.1</td><td> 919.9710</td><td>915.49</td><td>Medium  </td></tr>\n",
       "\t<tr><th scope=row>4</th><td>13524</td><td>ES-2013-1579342</td><td>28-01-2013</td><td>30-01-2013</td><td>First Class </td><td>KM-16375</td><td>Katherine Murray</td><td>Home Office</td><td>Berlin       </td><td>Berlin         </td><td>⋯</td><td>TEC-PH-10004583 </td><td>Technology</td><td>Phones     </td><td>Motorola Smart Phone, Cordless                                    </td><td>2892.510</td><td>5</td><td>0.1</td><td> -96.5400</td><td>910.16</td><td>Medium  </td></tr>\n",
       "\t<tr><th scope=row>5</th><td>47221</td><td>SG-2013-4320   </td><td>5/11/2013 </td><td>6/11/2013 </td><td>Same Day    </td><td>RH-9495 </td><td>Rick Hansen     </td><td>Consumer   </td><td>Dakar        </td><td>Dakar          </td><td>⋯</td><td>TEC-SHA-10000501</td><td>Technology</td><td>Copiers    </td><td>Sharp Wireless Fax, High-Speed                                    </td><td>2832.960</td><td>8</td><td>0.0</td><td> 311.5200</td><td>903.04</td><td>Critical</td></tr>\n",
       "</tbody>\n",
       "</table>\n"
      ],
      "text/latex": [
       "A data.frame: 5 × 24\n",
       "\\begin{tabular}{r|lllllllllllllllllllll}\n",
       "  & Row.ID & Order.ID & Order.Date & Ship.Date & Ship.Mode & Customer.ID & Customer.Name & Segment & City & State & ⋯ & Product.ID & Category & Sub.Category & Product.Name & Sales & Quantity & Discount & Profit & Shipping.Cost & Order.Priority\\\\\n",
       "  & <int> & <chr> & <chr> & <chr> & <chr> & <chr> & <chr> & <chr> & <chr> & <chr> & ⋯ & <chr> & <chr> & <chr> & <chr> & <dbl> & <int> & <dbl> & <dbl> & <dbl> & <chr>\\\\\n",
       "\\hline\n",
       "\t1 & 32298 & CA-2012-124891  & 31-07-2012 & 31-07-2012 & Same Day     & RH-19495 & Rick Hansen      & Consumer    & New York City & New York        & ⋯ & TEC-AC-10003033  & Technology & Accessories & Plantronics CS510 - Over-the-Head monaural Wireless Headset System & 2309.650 & 7 & 0.0 &  762.1845 & 933.57 & Critical\\\\\n",
       "\t2 & 26341 & IN-2013-77878   & 5/2/2013   & 7/2/2013   & Second Class & JR-16210 & Justin Ritter    & Corporate   & Wollongong    & New South Wales & ⋯ & FUR-CH-10003950  & Furniture  & Chairs      & Novimex Executive Leather Armchair, Black                          & 3709.395 & 9 & 0.1 & -288.7650 & 923.63 & Critical\\\\\n",
       "\t3 & 25330 & IN-2013-71249   & 17-10-2013 & 18-10-2013 & First Class  & CR-12730 & Craig Reiter     & Consumer    & Brisbane      & Queensland      & ⋯ & TEC-PH-10004664  & Technology & Phones      & Nokia Smart Phone, with Caller ID                                  & 5175.171 & 9 & 0.1 &  919.9710 & 915.49 & Medium  \\\\\n",
       "\t4 & 13524 & ES-2013-1579342 & 28-01-2013 & 30-01-2013 & First Class  & KM-16375 & Katherine Murray & Home Office & Berlin        & Berlin          & ⋯ & TEC-PH-10004583  & Technology & Phones      & Motorola Smart Phone, Cordless                                     & 2892.510 & 5 & 0.1 &  -96.5400 & 910.16 & Medium  \\\\\n",
       "\t5 & 47221 & SG-2013-4320    & 5/11/2013  & 6/11/2013  & Same Day     & RH-9495  & Rick Hansen      & Consumer    & Dakar         & Dakar           & ⋯ & TEC-SHA-10000501 & Technology & Copiers     & Sharp Wireless Fax, High-Speed                                     & 2832.960 & 8 & 0.0 &  311.5200 & 903.04 & Critical\\\\\n",
       "\\end{tabular}\n"
      ],
      "text/markdown": [
       "\n",
       "A data.frame: 5 × 24\n",
       "\n",
       "| <!--/--> | Row.ID &lt;int&gt; | Order.ID &lt;chr&gt; | Order.Date &lt;chr&gt; | Ship.Date &lt;chr&gt; | Ship.Mode &lt;chr&gt; | Customer.ID &lt;chr&gt; | Customer.Name &lt;chr&gt; | Segment &lt;chr&gt; | City &lt;chr&gt; | State &lt;chr&gt; | ⋯ ⋯ | Product.ID &lt;chr&gt; | Category &lt;chr&gt; | Sub.Category &lt;chr&gt; | Product.Name &lt;chr&gt; | Sales &lt;dbl&gt; | Quantity &lt;int&gt; | Discount &lt;dbl&gt; | Profit &lt;dbl&gt; | Shipping.Cost &lt;dbl&gt; | Order.Priority &lt;chr&gt; |\n",
       "|---|---|---|---|---|---|---|---|---|---|---|---|---|---|---|---|---|---|---|---|---|---|\n",
       "| 1 | 32298 | CA-2012-124891  | 31-07-2012 | 31-07-2012 | Same Day     | RH-19495 | Rick Hansen      | Consumer    | New York City | New York        | ⋯ | TEC-AC-10003033  | Technology | Accessories | Plantronics CS510 - Over-the-Head monaural Wireless Headset System | 2309.650 | 7 | 0.0 |  762.1845 | 933.57 | Critical |\n",
       "| 2 | 26341 | IN-2013-77878   | 5/2/2013   | 7/2/2013   | Second Class | JR-16210 | Justin Ritter    | Corporate   | Wollongong    | New South Wales | ⋯ | FUR-CH-10003950  | Furniture  | Chairs      | Novimex Executive Leather Armchair, Black                          | 3709.395 | 9 | 0.1 | -288.7650 | 923.63 | Critical |\n",
       "| 3 | 25330 | IN-2013-71249   | 17-10-2013 | 18-10-2013 | First Class  | CR-12730 | Craig Reiter     | Consumer    | Brisbane      | Queensland      | ⋯ | TEC-PH-10004664  | Technology | Phones      | Nokia Smart Phone, with Caller ID                                  | 5175.171 | 9 | 0.1 |  919.9710 | 915.49 | Medium   |\n",
       "| 4 | 13524 | ES-2013-1579342 | 28-01-2013 | 30-01-2013 | First Class  | KM-16375 | Katherine Murray | Home Office | Berlin        | Berlin          | ⋯ | TEC-PH-10004583  | Technology | Phones      | Motorola Smart Phone, Cordless                                     | 2892.510 | 5 | 0.1 |  -96.5400 | 910.16 | Medium   |\n",
       "| 5 | 47221 | SG-2013-4320    | 5/11/2013  | 6/11/2013  | Same Day     | RH-9495  | Rick Hansen      | Consumer    | Dakar         | Dakar           | ⋯ | TEC-SHA-10000501 | Technology | Copiers     | Sharp Wireless Fax, High-Speed                                     | 2832.960 | 8 | 0.0 |  311.5200 | 903.04 | Critical |\n",
       "\n"
      ],
      "text/plain": [
       "  Row.ID Order.ID        Order.Date Ship.Date  Ship.Mode    Customer.ID\n",
       "1 32298  CA-2012-124891  31-07-2012 31-07-2012 Same Day     RH-19495   \n",
       "2 26341  IN-2013-77878   5/2/2013   7/2/2013   Second Class JR-16210   \n",
       "3 25330  IN-2013-71249   17-10-2013 18-10-2013 First Class  CR-12730   \n",
       "4 13524  ES-2013-1579342 28-01-2013 30-01-2013 First Class  KM-16375   \n",
       "5 47221  SG-2013-4320    5/11/2013  6/11/2013  Same Day     RH-9495    \n",
       "  Customer.Name    Segment     City          State           ⋯ Product.ID      \n",
       "1 Rick Hansen      Consumer    New York City New York        ⋯ TEC-AC-10003033 \n",
       "2 Justin Ritter    Corporate   Wollongong    New South Wales ⋯ FUR-CH-10003950 \n",
       "3 Craig Reiter     Consumer    Brisbane      Queensland      ⋯ TEC-PH-10004664 \n",
       "4 Katherine Murray Home Office Berlin        Berlin          ⋯ TEC-PH-10004583 \n",
       "5 Rick Hansen      Consumer    Dakar         Dakar           ⋯ TEC-SHA-10000501\n",
       "  Category   Sub.Category\n",
       "1 Technology Accessories \n",
       "2 Furniture  Chairs      \n",
       "3 Technology Phones      \n",
       "4 Technology Phones      \n",
       "5 Technology Copiers     \n",
       "  Product.Name                                                       Sales   \n",
       "1 Plantronics CS510 - Over-the-Head monaural Wireless Headset System 2309.650\n",
       "2 Novimex Executive Leather Armchair, Black                          3709.395\n",
       "3 Nokia Smart Phone, with Caller ID                                  5175.171\n",
       "4 Motorola Smart Phone, Cordless                                     2892.510\n",
       "5 Sharp Wireless Fax, High-Speed                                     2832.960\n",
       "  Quantity Discount Profit    Shipping.Cost Order.Priority\n",
       "1 7        0.0       762.1845 933.57        Critical      \n",
       "2 9        0.1      -288.7650 923.63        Critical      \n",
       "3 9        0.1       919.9710 915.49        Medium        \n",
       "4 5        0.1       -96.5400 910.16        Medium        \n",
       "5 8        0.0       311.5200 903.04        Critical      "
      ]
     },
     "metadata": {},
     "output_type": "display_data"
    }
   ],
   "source": [
    "#Viewing the first five rows of our dataset\n",
    "head(stores, 5)"
   ]
  },
  {
   "cell_type": "code",
   "execution_count": 14,
   "id": "abf0cfbf",
   "metadata": {},
   "outputs": [
    {
     "data": {
      "text/html": [
       "<style>\n",
       ".list-inline {list-style: none; margin:0; padding: 0}\n",
       ".list-inline>li {display: inline-block}\n",
       ".list-inline>li:not(:last-child)::after {content: \"\\00b7\"; padding: 0 .5ex}\n",
       "</style>\n",
       "<ol class=list-inline><li>51290</li><li>24</li></ol>\n"
      ],
      "text/latex": [
       "\\begin{enumerate*}\n",
       "\\item 51290\n",
       "\\item 24\n",
       "\\end{enumerate*}\n"
      ],
      "text/markdown": [
       "1. 51290\n",
       "2. 24\n",
       "\n",
       "\n"
      ],
      "text/plain": [
       "[1] 51290    24"
      ]
     },
     "metadata": {},
     "output_type": "display_data"
    }
   ],
   "source": [
    "#Checking the dimension of our dataset\n",
    "dim(stores)"
   ]
  },
  {
   "cell_type": "code",
   "execution_count": 15,
   "id": "5f9b3bd0",
   "metadata": {},
   "outputs": [
    {
     "data": {
      "text/html": [
       "<style>\n",
       ".list-inline {list-style: none; margin:0; padding: 0}\n",
       ".list-inline>li {display: inline-block}\n",
       ".list-inline>li:not(:last-child)::after {content: \"\\00b7\"; padding: 0 .5ex}\n",
       "</style>\n",
       "<ol class=list-inline><li>'Row.ID'</li><li>'Order.ID'</li><li>'Order.Date'</li><li>'Ship.Date'</li><li>'Ship.Mode'</li><li>'Customer.ID'</li><li>'Customer.Name'</li><li>'Segment'</li><li>'City'</li><li>'State'</li><li>'Country'</li><li>'Postal.Code'</li><li>'Market'</li><li>'Region'</li><li>'Product.ID'</li><li>'Category'</li><li>'Sub.Category'</li><li>'Product.Name'</li><li>'Sales'</li><li>'Quantity'</li><li>'Discount'</li><li>'Profit'</li><li>'Shipping.Cost'</li><li>'Order.Priority'</li></ol>\n"
      ],
      "text/latex": [
       "\\begin{enumerate*}\n",
       "\\item 'Row.ID'\n",
       "\\item 'Order.ID'\n",
       "\\item 'Order.Date'\n",
       "\\item 'Ship.Date'\n",
       "\\item 'Ship.Mode'\n",
       "\\item 'Customer.ID'\n",
       "\\item 'Customer.Name'\n",
       "\\item 'Segment'\n",
       "\\item 'City'\n",
       "\\item 'State'\n",
       "\\item 'Country'\n",
       "\\item 'Postal.Code'\n",
       "\\item 'Market'\n",
       "\\item 'Region'\n",
       "\\item 'Product.ID'\n",
       "\\item 'Category'\n",
       "\\item 'Sub.Category'\n",
       "\\item 'Product.Name'\n",
       "\\item 'Sales'\n",
       "\\item 'Quantity'\n",
       "\\item 'Discount'\n",
       "\\item 'Profit'\n",
       "\\item 'Shipping.Cost'\n",
       "\\item 'Order.Priority'\n",
       "\\end{enumerate*}\n"
      ],
      "text/markdown": [
       "1. 'Row.ID'\n",
       "2. 'Order.ID'\n",
       "3. 'Order.Date'\n",
       "4. 'Ship.Date'\n",
       "5. 'Ship.Mode'\n",
       "6. 'Customer.ID'\n",
       "7. 'Customer.Name'\n",
       "8. 'Segment'\n",
       "9. 'City'\n",
       "10. 'State'\n",
       "11. 'Country'\n",
       "12. 'Postal.Code'\n",
       "13. 'Market'\n",
       "14. 'Region'\n",
       "15. 'Product.ID'\n",
       "16. 'Category'\n",
       "17. 'Sub.Category'\n",
       "18. 'Product.Name'\n",
       "19. 'Sales'\n",
       "20. 'Quantity'\n",
       "21. 'Discount'\n",
       "22. 'Profit'\n",
       "23. 'Shipping.Cost'\n",
       "24. 'Order.Priority'\n",
       "\n",
       "\n"
      ],
      "text/plain": [
       " [1] \"Row.ID\"         \"Order.ID\"       \"Order.Date\"     \"Ship.Date\"     \n",
       " [5] \"Ship.Mode\"      \"Customer.ID\"    \"Customer.Name\"  \"Segment\"       \n",
       " [9] \"City\"           \"State\"          \"Country\"        \"Postal.Code\"   \n",
       "[13] \"Market\"         \"Region\"         \"Product.ID\"     \"Category\"      \n",
       "[17] \"Sub.Category\"   \"Product.Name\"   \"Sales\"          \"Quantity\"      \n",
       "[21] \"Discount\"       \"Profit\"         \"Shipping.Cost\"  \"Order.Priority\""
      ]
     },
     "metadata": {},
     "output_type": "display_data"
    }
   ],
   "source": [
    "#listing all the column names\n",
    "names(stores)"
   ]
  },
  {
   "cell_type": "code",
   "execution_count": 16,
   "id": "75ab613c",
   "metadata": {},
   "outputs": [
    {
     "data": {
      "text/html": [
       "'Postal.Code'"
      ],
      "text/latex": [
       "'Postal.Code'"
      ],
      "text/markdown": [
       "'Postal.Code'"
      ],
      "text/plain": [
       "[1] \"Postal.Code\""
      ]
     },
     "metadata": {},
     "output_type": "display_data"
    }
   ],
   "source": [
    "#lets check if any column has missing values\n",
    "NAs=colSums(is.na(stores))\n",
    "names(stores)[NAs>0]"
   ]
  },
  {
   "cell_type": "code",
   "execution_count": 17,
   "id": "a613bf1a",
   "metadata": {},
   "outputs": [
    {
     "name": "stdout",
     "output_type": "stream",
     "text": [
      "'data.frame':\t51290 obs. of  24 variables:\n",
      " $ Row.ID        : int  32298 26341 25330 13524 47221 22732 30570 31192 40155 40936 ...\n",
      " $ Order.ID      : chr  \"CA-2012-124891\" \"IN-2013-77878\" \"IN-2013-71249\" \"ES-2013-1579342\" ...\n",
      " $ Order.Date    : chr  \"31-07-2012\" \"5/2/2013\" \"17-10-2013\" \"28-01-2013\" ...\n",
      " $ Ship.Date     : chr  \"31-07-2012\" \"7/2/2013\" \"18-10-2013\" \"30-01-2013\" ...\n",
      " $ Ship.Mode     : chr  \"Same Day\" \"Second Class\" \"First Class\" \"First Class\" ...\n",
      " $ Customer.ID   : chr  \"RH-19495\" \"JR-16210\" \"CR-12730\" \"KM-16375\" ...\n",
      " $ Customer.Name : chr  \"Rick Hansen\" \"Justin Ritter\" \"Craig Reiter\" \"Katherine Murray\" ...\n",
      " $ Segment       : chr  \"Consumer\" \"Corporate\" \"Consumer\" \"Home Office\" ...\n",
      " $ City          : chr  \"New York City\" \"Wollongong\" \"Brisbane\" \"Berlin\" ...\n",
      " $ State         : chr  \"New York\" \"New South Wales\" \"Queensland\" \"Berlin\" ...\n",
      " $ Country       : chr  \"United States\" \"Australia\" \"Australia\" \"Germany\" ...\n",
      " $ Postal.Code   : int  10024 NA NA NA NA NA NA NA 95823 28027 ...\n",
      " $ Market        : chr  \"US\" \"APAC\" \"APAC\" \"EU\" ...\n",
      " $ Region        : chr  \"East\" \"Oceania\" \"Oceania\" \"Central\" ...\n",
      " $ Product.ID    : chr  \"TEC-AC-10003033\" \"FUR-CH-10003950\" \"TEC-PH-10004664\" \"TEC-PH-10004583\" ...\n",
      " $ Category      : chr  \"Technology\" \"Furniture\" \"Technology\" \"Technology\" ...\n",
      " $ Sub.Category  : chr  \"Accessories\" \"Chairs\" \"Phones\" \"Phones\" ...\n",
      " $ Product.Name  : chr  \"Plantronics CS510 - Over-the-Head monaural Wireless Headset System\" \"Novimex Executive Leather Armchair, Black\" \"Nokia Smart Phone, with Caller ID\" \"Motorola Smart Phone, Cordless\" ...\n",
      " $ Sales         : num  2310 3709 5175 2893 2833 ...\n",
      " $ Quantity      : int  7 9 9 5 8 5 4 6 5 13 ...\n",
      " $ Discount      : num  0 0.1 0.1 0.1 0 0.1 0 0 0.2 0.4 ...\n",
      " $ Profit        : num  762.2 -288.8 920 -96.5 311.5 ...\n",
      " $ Shipping.Cost : num  934 924 915 910 903 ...\n",
      " $ Order.Priority: chr  \"Critical\" \"Critical\" \"Medium\" \"Medium\" ...\n"
     ]
    }
   ],
   "source": [
    "#checking the description of each column\n",
    "str(stores)"
   ]
  },
  {
   "cell_type": "code",
   "execution_count": 27,
   "id": "69ec47f5",
   "metadata": {},
   "outputs": [
    {
     "ename": "ERROR",
     "evalue": "\u001b[1m\u001b[33mError\u001b[39m in `separate()`:\u001b[22m\n\u001b[1mCaused by error:\u001b[22m\n\u001b[33m!\u001b[39m object 'Order.Date' not found\n",
     "output_type": "error",
     "traceback": [
      "\u001b[1m\u001b[33mError\u001b[39m in `separate()`:\u001b[22m\n\u001b[1mCaused by error:\u001b[22m\n\u001b[33m!\u001b[39m object 'Order.Date' not found\nTraceback:\n",
      "1. Stores %>% separate(col = Order.Date, into = c(\"Order.Day\", \"Order.Month\", \n .     \"Order.Year\"), sep = \"[-/]\", remove = FALSE)",
      "2. separate(., col = Order.Date, into = c(\"Order.Day\", \"Order.Month\", \n .     \"Order.Year\"), sep = \"[-/]\", remove = FALSE)",
      "3. separate.data.frame(., col = Order.Date, into = c(\"Order.Day\", \n .     \"Order.Month\", \"Order.Year\"), sep = \"[-/]\", remove = FALSE)",
      "4. tidyselect::vars_pull(names(data), !!enquo(col))",
      "5. with_chained_errors(loc <- eval_tidy(expr, set_names(seq_along(vars), \n .     vars)), call = error_call, eval_expr = expr)",
      "6. try_fetch(expr, error = function(cnd) {\n .     eval_expr <- quo_squash(eval_expr)\n .     if (!is_call(eval_expr) || identical(cnd[[\"call\"]], call2(eval_expr[[1]]))) {\n .         msg <- \"\"\n .     }\n .     else {\n .         code <- as_label(eval_expr)\n .         msg <- cli::format_inline(\"Problem while evaluating {.code {code}}.\")\n .     }\n .     abort(msg, call = call, parent = cnd)\n . })",
      "7. tryCatch(withCallingHandlers(expr, condition = function(cnd) {\n .     {\n .         .__handler_frame__. <- TRUE\n .         .__setup_frame__. <- frame\n .         if (inherits(cnd, \"message\")) {\n .             except <- c(\"warning\", \"error\")\n .         }\n .         else if (inherits(cnd, \"warning\")) {\n .             except <- \"error\"\n .         }\n .         else {\n .             except <- \"\"\n .         }\n .     }\n .     while (!is_null(cnd)) {\n .         if (inherits(cnd, \"error\")) {\n .             out <- handlers[[1L]](cnd)\n .             if (!inherits(out, \"rlang_zap\")) \n .                 throw(out)\n .         }\n .         inherit <- .subset2(.subset2(cnd, \"rlang\"), \"inherit\")\n .         if (is_false(inherit)) {\n .             return()\n .         }\n .         cnd <- .subset2(cnd, \"parent\")\n .     }\n . }), stackOverflowError = handlers[[1L]])",
      "8. tryCatchList(expr, classes, parentenv, handlers)",
      "9. tryCatchOne(expr, names, parentenv, handlers[[1L]])",
      "10. doTryCatch(return(expr), name, parentenv, handler)",
      "11. withCallingHandlers(expr, condition = function(cnd) {\n  .     {\n  .         .__handler_frame__. <- TRUE\n  .         .__setup_frame__. <- frame\n  .         if (inherits(cnd, \"message\")) {\n  .             except <- c(\"warning\", \"error\")\n  .         }\n  .         else if (inherits(cnd, \"warning\")) {\n  .             except <- \"error\"\n  .         }\n  .         else {\n  .             except <- \"\"\n  .         }\n  .     }\n  .     while (!is_null(cnd)) {\n  .         if (inherits(cnd, \"error\")) {\n  .             out <- handlers[[1L]](cnd)\n  .             if (!inherits(out, \"rlang_zap\")) \n  .                 throw(out)\n  .         }\n  .         inherit <- .subset2(.subset2(cnd, \"rlang\"), \"inherit\")\n  .         if (is_false(inherit)) {\n  .             return()\n  .         }\n  .         cnd <- .subset2(cnd, \"parent\")\n  .     }\n  . })",
      "12. eval_tidy(expr, set_names(seq_along(vars), vars))",
      "13. .handleSimpleError(function (cnd) \n  . {\n  .     {\n  .         .__handler_frame__. <- TRUE\n  .         .__setup_frame__. <- frame\n  .         if (inherits(cnd, \"message\")) {\n  .             except <- c(\"warning\", \"error\")\n  .         }\n  .         else if (inherits(cnd, \"warning\")) {\n  .             except <- \"error\"\n  .         }\n  .         else {\n  .             except <- \"\"\n  .         }\n  .     }\n  .     while (!is_null(cnd)) {\n  .         if (inherits(cnd, \"error\")) {\n  .             out <- handlers[[1L]](cnd)\n  .             if (!inherits(out, \"rlang_zap\")) \n  .                 throw(out)\n  .         }\n  .         inherit <- .subset2(.subset2(cnd, \"rlang\"), \"inherit\")\n  .         if (is_false(inherit)) {\n  .             return()\n  .         }\n  .         cnd <- .subset2(cnd, \"parent\")\n  .     }\n  . }, \"object 'Order.Date' not found\", base::quote(NULL))",
      "14. h(simpleError(msg, call))",
      "15. handlers[[1L]](cnd)",
      "16. abort(msg, call = call, parent = cnd)",
      "17. signal_abort(cnd, .file)"
     ]
    }
   ],
   "source": [
    "#Separating the dates into other new columns i.e shipping day, month or year\n",
    "Stores <- Stores %>% \n",
    "  separate(col = Order.Date, \n",
    "           into = c(\"Order.Day\", \"Order.Month\", \"Order.Year\"),\n",
    "           sep = \"[-/]\",\n",
    "           remove = FALSE)"
   ]
  },
  {
   "cell_type": "code",
   "execution_count": 24,
   "id": "2c444e22",
   "metadata": {},
   "outputs": [
    {
     "ename": "ERROR",
     "evalue": "\u001b[1m\u001b[33mError\u001b[39m in `separate()`:\u001b[22m\n\u001b[1mCaused by error:\u001b[22m\n\u001b[33m!\u001b[39m object 'Ship.Date' not found\n",
     "output_type": "error",
     "traceback": [
      "\u001b[1m\u001b[33mError\u001b[39m in `separate()`:\u001b[22m\n\u001b[1mCaused by error:\u001b[22m\n\u001b[33m!\u001b[39m object 'Ship.Date' not found\nTraceback:\n",
      "1. Stores %>% separate(col = Ship.Date, into = c(\"Ship.Day\", \"Ship.Month\", \n .     \"Ship.Year\"), sep = \"[-/]\", remove = FALSE)",
      "2. separate(., col = Ship.Date, into = c(\"Ship.Day\", \"Ship.Month\", \n .     \"Ship.Year\"), sep = \"[-/]\", remove = FALSE)",
      "3. separate.data.frame(., col = Ship.Date, into = c(\"Ship.Day\", \n .     \"Ship.Month\", \"Ship.Year\"), sep = \"[-/]\", remove = FALSE)",
      "4. tidyselect::vars_pull(names(data), !!enquo(col))",
      "5. with_chained_errors(loc <- eval_tidy(expr, set_names(seq_along(vars), \n .     vars)), call = error_call, eval_expr = expr)",
      "6. try_fetch(expr, error = function(cnd) {\n .     eval_expr <- quo_squash(eval_expr)\n .     if (!is_call(eval_expr) || identical(cnd[[\"call\"]], call2(eval_expr[[1]]))) {\n .         msg <- \"\"\n .     }\n .     else {\n .         code <- as_label(eval_expr)\n .         msg <- cli::format_inline(\"Problem while evaluating {.code {code}}.\")\n .     }\n .     abort(msg, call = call, parent = cnd)\n . })",
      "7. tryCatch(withCallingHandlers(expr, condition = function(cnd) {\n .     {\n .         .__handler_frame__. <- TRUE\n .         .__setup_frame__. <- frame\n .         if (inherits(cnd, \"message\")) {\n .             except <- c(\"warning\", \"error\")\n .         }\n .         else if (inherits(cnd, \"warning\")) {\n .             except <- \"error\"\n .         }\n .         else {\n .             except <- \"\"\n .         }\n .     }\n .     while (!is_null(cnd)) {\n .         if (inherits(cnd, \"error\")) {\n .             out <- handlers[[1L]](cnd)\n .             if (!inherits(out, \"rlang_zap\")) \n .                 throw(out)\n .         }\n .         inherit <- .subset2(.subset2(cnd, \"rlang\"), \"inherit\")\n .         if (is_false(inherit)) {\n .             return()\n .         }\n .         cnd <- .subset2(cnd, \"parent\")\n .     }\n . }), stackOverflowError = handlers[[1L]])",
      "8. tryCatchList(expr, classes, parentenv, handlers)",
      "9. tryCatchOne(expr, names, parentenv, handlers[[1L]])",
      "10. doTryCatch(return(expr), name, parentenv, handler)",
      "11. withCallingHandlers(expr, condition = function(cnd) {\n  .     {\n  .         .__handler_frame__. <- TRUE\n  .         .__setup_frame__. <- frame\n  .         if (inherits(cnd, \"message\")) {\n  .             except <- c(\"warning\", \"error\")\n  .         }\n  .         else if (inherits(cnd, \"warning\")) {\n  .             except <- \"error\"\n  .         }\n  .         else {\n  .             except <- \"\"\n  .         }\n  .     }\n  .     while (!is_null(cnd)) {\n  .         if (inherits(cnd, \"error\")) {\n  .             out <- handlers[[1L]](cnd)\n  .             if (!inherits(out, \"rlang_zap\")) \n  .                 throw(out)\n  .         }\n  .         inherit <- .subset2(.subset2(cnd, \"rlang\"), \"inherit\")\n  .         if (is_false(inherit)) {\n  .             return()\n  .         }\n  .         cnd <- .subset2(cnd, \"parent\")\n  .     }\n  . })",
      "12. eval_tidy(expr, set_names(seq_along(vars), vars))",
      "13. .handleSimpleError(function (cnd) \n  . {\n  .     {\n  .         .__handler_frame__. <- TRUE\n  .         .__setup_frame__. <- frame\n  .         if (inherits(cnd, \"message\")) {\n  .             except <- c(\"warning\", \"error\")\n  .         }\n  .         else if (inherits(cnd, \"warning\")) {\n  .             except <- \"error\"\n  .         }\n  .         else {\n  .             except <- \"\"\n  .         }\n  .     }\n  .     while (!is_null(cnd)) {\n  .         if (inherits(cnd, \"error\")) {\n  .             out <- handlers[[1L]](cnd)\n  .             if (!inherits(out, \"rlang_zap\")) \n  .                 throw(out)\n  .         }\n  .         inherit <- .subset2(.subset2(cnd, \"rlang\"), \"inherit\")\n  .         if (is_false(inherit)) {\n  .             return()\n  .         }\n  .         cnd <- .subset2(cnd, \"parent\")\n  .     }\n  . }, \"object 'Ship.Date' not found\", base::quote(NULL))",
      "14. h(simpleError(msg, call))",
      "15. handlers[[1L]](cnd)",
      "16. abort(msg, call = call, parent = cnd)",
      "17. signal_abort(cnd, .file)"
     ]
    }
   ],
   "source": [
    "Stores=Stores %>% \n",
    "  separate(col=\"Ship.Date\",\n",
    "           into=c(\"Ship.Day\",\"Ship.Month\",\"Ship.Year\"),\n",
    "           sep=\"[-/]\", remove = FALSE)"
   ]
  },
  {
   "cell_type": "code",
   "execution_count": null,
   "id": "fda0f803",
   "metadata": {},
   "outputs": [],
   "source": [
    "#converting a few columns into the necessary wanted datatypes\n",
    "Stores$Order.Day=as.integer(Stores$Order.Day)\n",
    "Stores$Order.Month=as.integer(Stores$Order.Month)\n",
    "Stores$Order.Year=as.integer(Stores$Order.Year)\n",
    "Stores$Ship.Day=as.integer(Stores$Ship.Day)\n",
    "Stores$Ship.Month=as.integer(Stores$Order.Month)\n",
    "Stores$Ship.Year=as.integer(Stores$Ship.Year)\n",
    "Stores$Ship.Mode=as.factor(Stores$Ship.Mode)\n",
    "Stores$Category=as.factor(Stores$Category)\n",
    "Stores$Order.Priority =as.factor(Stores$Order.Priority)\n",
    "Stores$Ship.Month=as.character(Stores$Order.Month)\n",
    "Stores$Order.Month=as.character(Stores$Order.Month)"
   ]
  },
  {
   "cell_type": "code",
   "execution_count": null,
   "id": "116b08a6",
   "metadata": {},
   "outputs": [],
   "source": [
    "#renaming the months into the expected\n",
    "Stores=Stores %>% \n",
    "  mutate(\n",
    "    Order.Month =case_when(Order.Month == 1 ~ \"January\",Order.Month == 2 ~ \"February\",\n",
    "                         Order.Month == 3 ~ \"March\",Order.Month == 4 ~ \"April\",\n",
    "                         Order.Month == 5 ~ \"May\",Order.Month == 6 ~ \"June\",\n",
    "                         Order.Month == 7 ~ \"July\",Order.Month == 8 ~ \"August\",\n",
    "                         Order.Month == 9 ~ \"September\",Order.Month == 10 ~ \"October\",\n",
    "                         Order.Month == 11 ~ \"November\",Order.Month == 12 ~ \"December\"))\n",
    "\n",
    "Stores=Stores %>% \n",
    "  mutate(\n",
    "    Ship.Month =case_when(Ship.Month == 1 ~ \"January\",Ship.Month == 2 ~ \"February\",\n",
    "                         Ship.Month == 3 ~ \"March\",Ship.Month == 4 ~ \"April\",\n",
    "                         Ship.Month == 5 ~ \"May\",Ship.Month == 6 ~ \"June\",\n",
    "                         Ship.Month == 7 ~ \"July\",Ship.Month == 8 ~ \"August\",\n",
    "                         Ship.Month == 9 ~ \"September\",Ship.Month == 10 ~ \"October\",\n",
    "                         Ship.Month == 11 ~ \"November\",Ship.Month == 12 ~ \"December\"))"
   ]
  },
  {
   "cell_type": "code",
   "execution_count": 29,
   "id": "dc273b98",
   "metadata": {},
   "outputs": [
    {
     "name": "stdout",
     "output_type": "stream",
     "text": [
      "'data.frame':\t51290 obs. of  28 variables:\n",
      " $ Row.ID        : int  32298 26341 25330 13524 47221 22732 30570 31192 40155 40936 ...\n",
      " $ Order.ID      : chr  \"CA-2012-124891\" \"IN-2013-77878\" \"IN-2013-71249\" \"ES-2013-1579342\" ...\n",
      " $ Order.Day     : int  31 5 17 28 5 28 7 14 14 28 ...\n",
      " $ Order.Month   : int  7 2 10 1 11 6 11 4 10 1 ...\n",
      " $ Order.Year    : int  2012 2013 2013 2013 2013 2013 2011 2012 2014 2012 ...\n",
      " $ Ship.Day      : int  31 7 18 30 6 1 9 18 21 31 ...\n",
      " $ Ship.Month    : int  7 2 10 1 11 6 11 4 10 1 ...\n",
      " $ Ship.Year     : int  2012 2013 2013 2013 2013 2013 2011 2012 2014 2012 ...\n",
      " $ Ship.Mode     : Factor w/ 4 levels \"First Class\",..: 2 3 1 1 2 3 1 4 4 3 ...\n",
      " $ Customer.ID   : chr  \"RH-19495\" \"JR-16210\" \"CR-12730\" \"KM-16375\" ...\n",
      " $ Customer.Name : chr  \"Rick Hansen\" \"Justin Ritter\" \"Craig Reiter\" \"Katherine Murray\" ...\n",
      " $ Segment       : chr  \"Consumer\" \"Corporate\" \"Consumer\" \"Home Office\" ...\n",
      " $ City          : chr  \"New York City\" \"Wollongong\" \"Brisbane\" \"Berlin\" ...\n",
      " $ State         : chr  \"New York\" \"New South Wales\" \"Queensland\" \"Berlin\" ...\n",
      " $ Country       : chr  \"United States\" \"Australia\" \"Australia\" \"Germany\" ...\n",
      " $ Postal.Code   : int  10024 NA NA NA NA NA NA NA 95823 28027 ...\n",
      " $ Market        : chr  \"US\" \"APAC\" \"APAC\" \"EU\" ...\n",
      " $ Region        : chr  \"East\" \"Oceania\" \"Oceania\" \"Central\" ...\n",
      " $ Product.ID    : chr  \"TEC-AC-10003033\" \"FUR-CH-10003950\" \"TEC-PH-10004664\" \"TEC-PH-10004583\" ...\n",
      " $ Category      : Factor w/ 3 levels \"Furniture\",\"Office Supplies\",..: 3 1 3 3 3 3 1 1 2 1 ...\n",
      " $ Sub.Category  : chr  \"Accessories\" \"Chairs\" \"Phones\" \"Phones\" ...\n",
      " $ Product.Name  : chr  \"Plantronics CS510 - Over-the-Head monaural Wireless Headset System\" \"Novimex Executive Leather Armchair, Black\" \"Nokia Smart Phone, with Caller ID\" \"Motorola Smart Phone, Cordless\" ...\n",
      " $ Sales         : num  2310 3709 5175 2893 2833 ...\n",
      " $ Quantity      : int  7 9 9 5 8 5 4 6 5 13 ...\n",
      " $ Discount      : num  0 0.1 0.1 0.1 0 0.1 0 0 0.2 0.4 ...\n",
      " $ Profit        : num  762.2 -288.8 920 -96.5 311.5 ...\n",
      " $ Shipping.Cost : num  934 924 915 910 903 ...\n",
      " $ Order.Priority: Factor w/ 4 levels \"Critical\",\"High\",..: 1 1 4 4 1 1 1 2 3 1 ...\n"
     ]
    }
   ],
   "source": [
    "#checking the datatypes again\n",
    "str(Stores)"
   ]
  },
  {
   "cell_type": "code",
   "execution_count": 30,
   "id": "1640ab29",
   "metadata": {},
   "outputs": [
    {
     "data": {
      "text/plain": [
       "     Row.ID        Order.ID           Order.Day      Order.Month    \n",
       " Min.   :    1   Length:51290       Min.   : 1.00   Min.   : 1.000  \n",
       " 1st Qu.:12823   Class :character   1st Qu.: 8.00   1st Qu.: 5.000  \n",
       " Median :25646   Mode  :character   Median :16.00   Median : 8.000  \n",
       " Mean   :25646                      Mean   :15.78   Mean   : 7.523  \n",
       " 3rd Qu.:38468                      3rd Qu.:23.00   3rd Qu.:10.000  \n",
       " Max.   :51290                      Max.   :31.00   Max.   :12.000  \n",
       "                                                                    \n",
       "   Order.Year      Ship.Day       Ship.Month       Ship.Year   \n",
       " Min.   :2011   Min.   : 1.00   Min.   : 1.000   Min.   :2011  \n",
       " 1st Qu.:2012   1st Qu.: 8.00   1st Qu.: 5.000   1st Qu.:2012  \n",
       " Median :2013   Median :16.00   Median : 8.000   Median :2013  \n",
       " Mean   :2013   Mean   :15.87   Mean   : 7.523   Mean   :2013  \n",
       " 3rd Qu.:2014   3rd Qu.:23.00   3rd Qu.:10.000   3rd Qu.:2014  \n",
       " Max.   :2014   Max.   :31.00   Max.   :12.000   Max.   :2015  \n",
       "                                                               \n",
       "          Ship.Mode     Customer.ID        Customer.Name     \n",
       " First Class   : 7505   Length:51290       Length:51290      \n",
       " Same Day      : 2701   Class :character   Class :character  \n",
       " Second Class  :10309   Mode  :character   Mode  :character  \n",
       " Standard Class:30775                                        \n",
       "                                                             \n",
       "                                                             \n",
       "                                                             \n",
       "   Segment              City              State             Country         \n",
       " Length:51290       Length:51290       Length:51290       Length:51290      \n",
       " Class :character   Class :character   Class :character   Class :character  \n",
       " Mode  :character   Mode  :character   Mode  :character   Mode  :character  \n",
       "                                                                            \n",
       "                                                                            \n",
       "                                                                            \n",
       "                                                                            \n",
       "  Postal.Code       Market             Region           Product.ID       \n",
       " Min.   : 1040   Length:51290       Length:51290       Length:51290      \n",
       " 1st Qu.:23223   Class :character   Class :character   Class :character  \n",
       " Median :56431   Mode  :character   Mode  :character   Mode  :character  \n",
       " Mean   :55190                                                           \n",
       " 3rd Qu.:90008                                                           \n",
       " Max.   :99301                                                           \n",
       " NA's   :41296                                                           \n",
       "            Category     Sub.Category       Product.Name      \n",
       " Furniture      : 9876   Length:51290       Length:51290      \n",
       " Office Supplies:31273   Class :character   Class :character  \n",
       " Technology     :10141   Mode  :character   Mode  :character  \n",
       "                                                              \n",
       "                                                              \n",
       "                                                              \n",
       "                                                              \n",
       "     Sales              Quantity         Discount          Profit        \n",
       " Min.   :    0.444   Min.   : 1.000   Min.   :0.0000   Min.   :-6599.98  \n",
       " 1st Qu.:   30.759   1st Qu.: 2.000   1st Qu.:0.0000   1st Qu.:    0.00  \n",
       " Median :   85.053   Median : 3.000   Median :0.0000   Median :    9.24  \n",
       " Mean   :  246.491   Mean   : 3.477   Mean   :0.1429   Mean   :   28.61  \n",
       " 3rd Qu.:  251.053   3rd Qu.: 5.000   3rd Qu.:0.2000   3rd Qu.:   36.81  \n",
       " Max.   :22638.480   Max.   :14.000   Max.   :0.8500   Max.   : 8399.98  \n",
       "                                                                         \n",
       " Shipping.Cost     Order.Priority \n",
       " Min.   :  0.00   Critical: 3932  \n",
       " 1st Qu.:  2.61   High    :15501  \n",
       " Median :  7.79   Low     : 2424  \n",
       " Mean   : 26.38   Medium  :29433  \n",
       " 3rd Qu.: 24.45                   \n",
       " Max.   :933.57                   \n",
       "                                  "
      ]
     },
     "metadata": {},
     "output_type": "display_data"
    }
   ],
   "source": [
    "#lets now get the summary for our dataset\n",
    "summary(Stores)"
   ]
  },
  {
   "cell_type": "markdown",
   "id": "2b00aed4",
   "metadata": {},
   "source": [
    "# Perform an Exploratory Data Analysis"
   ]
  },
  {
   "cell_type": "markdown",
   "id": "e168a670",
   "metadata": {},
   "source": [
    "# Customers Analysis\t\t\n",
    "1.Profile the customers based on their frequency of purchase - calculate frequency of purchase for each customer"
   ]
  },
  {
   "cell_type": "code",
   "execution_count": 35,
   "id": "ad74ce80",
   "metadata": {},
   "outputs": [
    {
     "name": "stdout",
     "output_type": "stream",
     "text": [
      "\u001b[90m# A tibble: 5 × 2\u001b[39m\n",
      "  Customer.Name   Frequency\n",
      "  \u001b[3m\u001b[90m<chr>\u001b[39m\u001b[23m               \u001b[3m\u001b[90m<int>\u001b[39m\u001b[23m\n",
      "\u001b[90m1\u001b[39m Bill Eplett           102\n",
      "\u001b[90m2\u001b[39m Gary Hwang            102\n",
      "\u001b[90m3\u001b[39m Patrick O'Brill       102\n",
      "\u001b[90m4\u001b[39m Steven Ward           106\n",
      "\u001b[90m5\u001b[39m Muhammed Yedwab       108\n"
     ]
    }
   ],
   "source": [
    "freq_purch=Stores %>% \n",
    "  select(Customer.ID, Customer.Name) %>% \n",
    "  group_by(Customer.Name) %>% \n",
    "  summarise(Frequency=n()) %>% \n",
    "  arrange(Frequency, by_group = TRUE)\n",
    "\n",
    "Most_frequent_customers=tail(freq_purch,5)\n",
    "print(Most_frequent_customers)"
   ]
  },
  {
   "cell_type": "markdown",
   "id": "c6cd2ec0",
   "metadata": {},
   "source": [
    "2.Do the high frequent customers are contributing more revenue"
   ]
  },
  {
   "cell_type": "code",
   "execution_count": 36,
   "id": "9ff085ca",
   "metadata": {},
   "outputs": [
    {
     "data": {
      "text/html": [
       "<table class=\"dataframe\">\n",
       "<caption>A tibble: 5 × 3</caption>\n",
       "<thead>\n",
       "\t<tr><th scope=col>Customer.Name</th><th scope=col>Total_sales</th><th scope=col>Frequency</th></tr>\n",
       "\t<tr><th scope=col>&lt;chr&gt;</th><th scope=col>&lt;dbl&gt;</th><th scope=col>&lt;int&gt;</th></tr>\n",
       "</thead>\n",
       "<tbody>\n",
       "\t<tr><td>Tom Ashbrook      </td><td>40488.07</td><td>80</td></tr>\n",
       "\t<tr><td>Tamara Chand      </td><td>37457.33</td><td>88</td></tr>\n",
       "\t<tr><td>Greg Tran         </td><td>35550.95</td><td>87</td></tr>\n",
       "\t<tr><td>Christopher Conant</td><td>35187.08</td><td>73</td></tr>\n",
       "\t<tr><td>Sean Miller       </td><td>35170.93</td><td>50</td></tr>\n",
       "</tbody>\n",
       "</table>\n"
      ],
      "text/latex": [
       "A tibble: 5 × 3\n",
       "\\begin{tabular}{lll}\n",
       " Customer.Name & Total\\_sales & Frequency\\\\\n",
       " <chr> & <dbl> & <int>\\\\\n",
       "\\hline\n",
       "\t Tom Ashbrook       & 40488.07 & 80\\\\\n",
       "\t Tamara Chand       & 37457.33 & 88\\\\\n",
       "\t Greg Tran          & 35550.95 & 87\\\\\n",
       "\t Christopher Conant & 35187.08 & 73\\\\\n",
       "\t Sean Miller        & 35170.93 & 50\\\\\n",
       "\\end{tabular}\n"
      ],
      "text/markdown": [
       "\n",
       "A tibble: 5 × 3\n",
       "\n",
       "| Customer.Name &lt;chr&gt; | Total_sales &lt;dbl&gt; | Frequency &lt;int&gt; |\n",
       "|---|---|---|\n",
       "| Tom Ashbrook       | 40488.07 | 80 |\n",
       "| Tamara Chand       | 37457.33 | 88 |\n",
       "| Greg Tran          | 35550.95 | 87 |\n",
       "| Christopher Conant | 35187.08 | 73 |\n",
       "| Sean Miller        | 35170.93 | 50 |\n",
       "\n"
      ],
      "text/plain": [
       "  Customer.Name      Total_sales Frequency\n",
       "1 Tom Ashbrook       40488.07    80       \n",
       "2 Tamara Chand       37457.33    88       \n",
       "3 Greg Tran          35550.95    87       \n",
       "4 Christopher Conant 35187.08    73       \n",
       "5 Sean Miller        35170.93    50       "
      ]
     },
     "metadata": {},
     "output_type": "display_data"
    }
   ],
   "source": [
    "Stores %>% \n",
    "  select(Customer.ID, Customer.Name, Sales) %>% \n",
    "  group_by(Customer.Name) %>%\n",
    "  summarise(Total_sales=sum(Sales),Frequency=n()) %>% \n",
    "  arrange(desc(Total_sales),desc(Frequency)) %>%\n",
    "  head(5)\n"
   ]
  },
  {
   "cell_type": "markdown",
   "id": "ac6de598",
   "metadata": {},
   "source": [
    "No.The frequent customers do not contribute much to the revenue"
   ]
  },
  {
   "cell_type": "markdown",
   "id": "8556e8d8",
   "metadata": {},
   "source": [
    "3.Are they also profitable - what is the profit margin across the buckets"
   ]
  },
  {
   "cell_type": "code",
   "execution_count": 38,
   "id": "a1e2ca60",
   "metadata": {},
   "outputs": [
    {
     "data": {
      "text/html": [
       "<table class=\"dataframe\">\n",
       "<caption>A tibble: 5 × 3</caption>\n",
       "<thead>\n",
       "\t<tr><th scope=col>Customer.Name</th><th scope=col>Total_Profits</th><th scope=col>Frequency</th></tr>\n",
       "\t<tr><th scope=col>&lt;chr&gt;</th><th scope=col>&lt;dbl&gt;</th><th scope=col>&lt;int&gt;</th></tr>\n",
       "</thead>\n",
       "<tbody>\n",
       "\t<tr><td>Tamara Chand</td><td>8672.899</td><td> 88</td></tr>\n",
       "\t<tr><td>Raymond Buch</td><td>8453.050</td><td> 71</td></tr>\n",
       "\t<tr><td>Sanjit Chand</td><td>8205.380</td><td> 69</td></tr>\n",
       "\t<tr><td>Hunter Lopez</td><td>7816.568</td><td> 53</td></tr>\n",
       "\t<tr><td>Bill Eplett </td><td>7410.005</td><td>102</td></tr>\n",
       "</tbody>\n",
       "</table>\n"
      ],
      "text/latex": [
       "A tibble: 5 × 3\n",
       "\\begin{tabular}{lll}\n",
       " Customer.Name & Total\\_Profits & Frequency\\\\\n",
       " <chr> & <dbl> & <int>\\\\\n",
       "\\hline\n",
       "\t Tamara Chand & 8672.899 &  88\\\\\n",
       "\t Raymond Buch & 8453.050 &  71\\\\\n",
       "\t Sanjit Chand & 8205.380 &  69\\\\\n",
       "\t Hunter Lopez & 7816.568 &  53\\\\\n",
       "\t Bill Eplett  & 7410.005 & 102\\\\\n",
       "\\end{tabular}\n"
      ],
      "text/markdown": [
       "\n",
       "A tibble: 5 × 3\n",
       "\n",
       "| Customer.Name &lt;chr&gt; | Total_Profits &lt;dbl&gt; | Frequency &lt;int&gt; |\n",
       "|---|---|---|\n",
       "| Tamara Chand | 8672.899 |  88 |\n",
       "| Raymond Buch | 8453.050 |  71 |\n",
       "| Sanjit Chand | 8205.380 |  69 |\n",
       "| Hunter Lopez | 7816.568 |  53 |\n",
       "| Bill Eplett  | 7410.005 | 102 |\n",
       "\n"
      ],
      "text/plain": [
       "  Customer.Name Total_Profits Frequency\n",
       "1 Tamara Chand  8672.899       88      \n",
       "2 Raymond Buch  8453.050       71      \n",
       "3 Sanjit Chand  8205.380       69      \n",
       "4 Hunter Lopez  7816.568       53      \n",
       "5 Bill Eplett   7410.005      102      "
      ]
     },
     "metadata": {},
     "output_type": "display_data"
    }
   ],
   "source": [
    "Stores %>% \n",
    "  select(Customer.ID, Customer.Name, Profit) %>% \n",
    "  group_by(Customer.Name) %>%\n",
    "  summarise(Total_Profits=sum(Profit),Frequency=n()) %>% \n",
    "  arrange(desc(Total_Profits),desc(Frequency)) %>% \n",
    "  head(5)"
   ]
  },
  {
   "cell_type": "markdown",
   "id": "29e1488b",
   "metadata": {},
   "source": [
    "4.Which customer segment is most profitable in each year.\t"
   ]
  },
  {
   "cell_type": "code",
   "execution_count": 42,
   "id": "1c3f0a60",
   "metadata": {},
   "outputs": [
    {
     "name": "stdout",
     "output_type": "stream",
     "text": [
      "\u001b[90m# A tibble: 3 × 2\u001b[39m\n",
      "  Segment     Total_Profits\n",
      "  \u001b[3m\u001b[90m<chr>\u001b[39m\u001b[23m               \u001b[3m\u001b[90m<dbl>\u001b[39m\u001b[23m\n",
      "\u001b[90m1\u001b[39m Consumer           \u001b[4m7\u001b[24m\u001b[4m4\u001b[24m\u001b[4m9\u001b[24m240\n",
      "\u001b[90m2\u001b[39m Corporate          \u001b[4m4\u001b[24m\u001b[4m4\u001b[24m\u001b[4m1\u001b[24m209\n",
      "\u001b[90m3\u001b[39m Home Office        \u001b[4m2\u001b[24m\u001b[4m7\u001b[24m\u001b[4m7\u001b[24m010\n"
     ]
    }
   ],
   "source": [
    "segment_customer =Stores %>% \n",
    "  select(Segment, Profit) %>% \n",
    "  group_by(Segment) %>% \n",
    "  summarise(Total_Profits=ceiling(sum(Profit))) %>% \n",
    "  arrange(desc(Total_Profits))\n",
    "\n",
    "print(segment_customer)"
   ]
  },
  {
   "cell_type": "code",
   "execution_count": 43,
   "id": "029b7ceb",
   "metadata": {},
   "outputs": [
    {
     "data": {
      "image/png": "[encoded data removed]",
      "text/plain": [
       "Plot with title \"Profits per Segment\""
      ]
     },
     "metadata": {
      "image/png": {
       "height": 420,
       "width": 420
      }
     },
     "output_type": "display_data"
    }
   ],
   "source": [
    "pie(segment_customer$Total_Profits,\n",
    "    labels =NA,\n",
    "    lwd=2,\n",
    "    main = \"Profits per Segment\",\n",
    "    border=\"white\",\n",
    "    col = c(\"red\",\"blue\",\"green\",\n",
    "    cex.main =1.5\n",
    "    ))\n",
    "\n",
    "legend(\"topright\", legend=segment_customer$Segment,fill = c(\"red\",\"blue\",\"green\", title = \"Segments\"))"
   ]
  },
  {
   "cell_type": "markdown",
   "id": "2f8a7fb8",
   "metadata": {},
   "source": [
    "5.How are the customers distributed across the countries?\t\t"
   ]
  },
  {
   "cell_type": "code",
   "execution_count": 44,
   "id": "d2b211e8",
   "metadata": {},
   "outputs": [],
   "source": [
    "dist_Country=Stores %>% \n",
    "  select(Country) %>% \n",
    "  group_by(Country) %>% \n",
    "  summarise(Frequency=n())"
   ]
  },
  {
   "cell_type": "markdown",
   "id": "743ab528",
   "metadata": {},
   "source": [
    "# Product Analysis\t\t\n",
    "1.Which country has top sales?"
   ]
  },
  {
   "cell_type": "code",
   "execution_count": 45,
   "id": "6d7cad31",
   "metadata": {},
   "outputs": [
    {
     "data": {
      "image/png": "[encoded data removed]",
      "text/plain": [
       "plot without title"
      ]
     },
     "metadata": {
      "image/png": {
       "height": 420,
       "width": 420
      }
     },
     "output_type": "display_data"
    }
   ],
   "source": [
    "c_top=Stores %>%\n",
    "  select(Country, Sales) %>% \n",
    "  group_by(Country) %>% \n",
    "  summarise(Total_Sales=sum(Sales)) %>% \n",
    "  arrange(desc(Total_Sales)) %>% \n",
    "  head(5)\n",
    "\n",
    "ggplot(c_top, aes(x=Country, y=Total_Sales))+\n",
    "  geom_bar(stat=\"identity\",col=\"black\",fill=c(\"red\",\"yellow\",\"green\",\"blue\",\"pink\"))+\n",
    "  labs(title = \"Investigating the country with the most sales\", x=\"Countries\",y=\"Total Sales\")+\n",
    "  theme_minimal()+\n",
    "  scale_fill_manual()+\n",
    "  theme(plot.title = element_text(hjust=0.5))"
   ]
  },
  {
   "cell_type": "markdown",
   "id": "5d0f695b",
   "metadata": {},
   "source": [
    "Hence the country with the most sales  is the United States"
   ]
  },
  {
   "cell_type": "markdown",
   "id": "931201cd",
   "metadata": {},
   "source": [
    "2.Which are the top 5 profit-making product types on a yearly basis?"
   ]
  },
  {
   "cell_type": "code",
   "execution_count": 46,
   "id": "008a6a02",
   "metadata": {},
   "outputs": [
    {
     "data": {
      "image/png": "[encoded data removed]",
      "text/plain": [
       "plot without title"
      ]
     },
     "metadata": {
      "image/png": {
       "height": 420,
       "width": 420
      }
     },
     "output_type": "display_data"
    }
   ],
   "source": [
    "profit_product <- \n",
    "  rbind(\n",
    "  (Stores %>% \n",
    "  select(Ship.Year, Sub.Category, Profit) %>% \n",
    "  filter(Ship.Year == 2011) %>% \n",
    "  group_by(Ship.Year,Sub.Category) %>% \n",
    "  summarise(Total_profits = ceiling(sum(Profit)), .groups = 'drop') %>% \n",
    "  arrange(desc(Total_profits)) %>% \n",
    "  head(5)),\n",
    "  (Stores %>% \n",
    "  select(Ship.Year, Sub.Category, Profit) %>% \n",
    "  filter(Ship.Year == 2012) %>% \n",
    "  group_by(Ship.Year,Sub.Category) %>% \n",
    "  summarise(Total_profits = ceiling(sum(Profit)), .groups = 'drop') %>% \n",
    "  arrange(desc(Total_profits)) %>% \n",
    "  head(5)),\n",
    "  (Stores %>% \n",
    "  select(Ship.Year, Sub.Category, Profit) %>% \n",
    "  filter(Ship.Year == 2013) %>% \n",
    "  group_by(Ship.Year,Sub.Category) %>% \n",
    "  summarise(Total_profits = ceiling(sum(Profit)), .groups = 'drop') %>% \n",
    "  arrange(desc(Total_profits)) %>% \n",
    "  head(5)),\n",
    "  (Stores %>% \n",
    "  select(Ship.Year, Sub.Category, Profit) %>% \n",
    "  filter(Ship.Year == 2014) %>% \n",
    "  group_by(Ship.Year,Sub.Category) %>% \n",
    "  summarise(Total_profits = ceiling(sum(Profit)), .groups = 'drop') %>% \n",
    "  arrange(desc(Total_profits)) %>% \n",
    "  head(5)),\n",
    "  (Stores %>% \n",
    "  select(Ship.Year, Sub.Category, Profit) %>% \n",
    "  filter(Ship.Year == 2015) %>% \n",
    "  group_by(Ship.Year,Sub.Category) %>% \n",
    "  summarise(Total_profits = ceiling(sum(Profit)), .groups = 'drop') %>% \n",
    "  arrange(desc(Total_profits)) %>% \n",
    "  head(5)))\n",
    "  \n",
    "ggplot(profit_product, aes(x=Ship.Year, y=Total_profits, fill=Sub.Category))+\n",
    "  geom_bar(stat = \"identity\", position = \"dodge\")+\n",
    "  labs(title = \"Total Profits per year and product\", x= \"Year\", y= \"Total Profits\")+\n",
    "  theme_minimal()+\n",
    "  theme(plot.title = element_text(hjust = 0.5))+\n",
    "  scale_fill_manual(values = c(\"red\",\"blue\",\"green\",\"black\",\"purple\",\"orange\",\"brown\"))"
   ]
  },
  {
   "cell_type": "markdown",
   "id": "8427045e",
   "metadata": {},
   "source": [
    "3.How is the product price varying with sales - Is there any increase in sales with the decrease in price at any level?"
   ]
  },
  {
   "cell_type": "markdown",
   "id": "994ad7c4",
   "metadata": {},
   "source": [
    "4.What is the average delivery time across the countries?"
   ]
  },
  {
   "cell_type": "markdown",
   "id": "cb3679da",
   "metadata": {},
   "source": [
    "5.What is the profit by month? (Use a line chart to visualize this.)"
   ]
  },
  {
   "cell_type": "code",
   "execution_count": 47,
   "id": "385ace90",
   "metadata": {},
   "outputs": [
    {
     "data": {
      "image/png": "[encoded data removed]",
      "text/plain": [
       "plot without title"
      ]
     },
     "metadata": {
      "image/png": {
       "height": 420,
       "width": 420
      }
     },
     "output_type": "display_data"
    }
   ],
   "source": [
    "profit_month=Stores %>% \n",
    "  select(Order.Month, Profit) %>% \n",
    "  group_by(Order.Month) %>% \n",
    "  summarise(Total_Profits=ceiling(sum(Profit)))\n",
    "\n",
    "profit_month$Order.Month <- factor(profit_month$Order.Month, levels = month.name)\n",
    "\n",
    "ggplot(profit_month, aes(x = Order.Month, y = Total_Profits, group=1)) +\n",
    "  geom_line(color = \"blue\", linewidth = 1.5) + \n",
    "  labs(title = \"Total Profit by Month\", x = \"Month\", y = \"Total Profit\") +\n",
    "  theme_minimal() + \n",
    "  theme(\n",
    "    plot.title = element_text(hjust = 0.5),  \n",
    "    axis.text.x = element_text(angle = 45, hjust = 1)\n",
    "  )"
   ]
  },
  {
   "cell_type": "markdown",
   "id": "2d052fcf",
   "metadata": {},
   "source": [
    "6.Profit by category? By Subcategory?\t"
   ]
  },
  {
   "cell_type": "code",
   "execution_count": 48,
   "id": "785f8155",
   "metadata": {},
   "outputs": [
    {
     "name": "stdout",
     "output_type": "stream",
     "text": [
      "\u001b[90m# A tibble: 17 × 2\u001b[39m\n",
      "   Sub.Category Total_Profits\n",
      "   \u001b[3m\u001b[90m<chr>\u001b[39m\u001b[23m                \u001b[3m\u001b[90m<dbl>\u001b[39m\u001b[23m\n",
      "\u001b[90m 1\u001b[39m Accessories         \u001b[4m1\u001b[24m\u001b[4m2\u001b[24m\u001b[4m9\u001b[24m627\n",
      "\u001b[90m 2\u001b[39m Appliances          \u001b[4m1\u001b[24m\u001b[4m4\u001b[24m\u001b[4m1\u001b[24m681\n",
      "\u001b[90m 3\u001b[39m Art                  \u001b[4m5\u001b[24m\u001b[4m7\u001b[24m954\n",
      "\u001b[90m 4\u001b[39m Binders              \u001b[4m7\u001b[24m\u001b[4m2\u001b[24m450\n",
      "\u001b[90m 5\u001b[39m Bookcases           \u001b[4m1\u001b[24m\u001b[4m6\u001b[24m\u001b[4m1\u001b[24m925\n",
      "\u001b[90m 6\u001b[39m Chairs              \u001b[4m1\u001b[24m\u001b[4m4\u001b[24m\u001b[4m0\u001b[24m397\n",
      "\u001b[90m 7\u001b[39m Copiers             \u001b[4m2\u001b[24m\u001b[4m5\u001b[24m\u001b[4m8\u001b[24m568\n",
      "\u001b[90m 8\u001b[39m Envelopes            \u001b[4m2\u001b[24m\u001b[4m9\u001b[24m602\n",
      "\u001b[90m 9\u001b[39m Fasteners            \u001b[4m1\u001b[24m\u001b[4m1\u001b[24m526\n",
      "\u001b[90m10\u001b[39m Furnishings          \u001b[4m4\u001b[24m\u001b[4m6\u001b[24m968\n",
      "\u001b[90m11\u001b[39m Labels               \u001b[4m1\u001b[24m\u001b[4m5\u001b[24m011\n",
      "\u001b[90m12\u001b[39m Machines             \u001b[4m5\u001b[24m\u001b[4m8\u001b[24m868\n",
      "\u001b[90m13\u001b[39m Paper                \u001b[4m5\u001b[24m\u001b[4m9\u001b[24m208\n",
      "\u001b[90m14\u001b[39m Phones              \u001b[4m2\u001b[24m\u001b[4m1\u001b[24m\u001b[4m6\u001b[24m718\n",
      "\u001b[90m15\u001b[39m Storage             \u001b[4m1\u001b[24m\u001b[4m0\u001b[24m\u001b[4m8\u001b[24m462\n",
      "\u001b[90m16\u001b[39m Supplies             \u001b[4m2\u001b[24m\u001b[4m2\u001b[24m584\n",
      "\u001b[90m17\u001b[39m Tables              -\u001b[31m\u001b[4m6\u001b[24m\u001b[4m4\u001b[24m0\u001b[39m\u001b[31m83\u001b[39m\n"
     ]
    },
    {
     "data": {
      "image/png": "[encoded data removed]",
      "text/plain": [
       "Plot with title \"Profits per Category\""
      ]
     },
     "metadata": {
      "image/png": {
       "height": 420,
       "width": 420
      }
     },
     "output_type": "display_data"
    }
   ],
   "source": [
    "profit_category=Stores %>% \n",
    "  select(Category, Profit) %>% \n",
    "  group_by(Category) %>% \n",
    "  summarise(Total_Profits=ceiling(sum(Profit)))\n",
    "\n",
    "profit_subcategory=Stores %>% \n",
    "  select(Sub.Category, Profit) %>% \n",
    "  group_by(Sub.Category) %>% \n",
    "  summarise(Total_Profits=ceiling(sum(Profit)))\n",
    "\n",
    "print(profit_subcategory)\n",
    "\n",
    "\n",
    "pie(profit_category$Total_Profits, \n",
    "    labels = profit_category$Category,\n",
    "    lwd=2,\n",
    "    main=\"Profits per Category\",\n",
    "    col=c(\"red\", \"blue\",\"pink\"),\n",
    "    border = \"white\",  # Add white border around each slice\n",
    "  lwd = 2,  # Increase line width for slice outlines\n",
    "  clockwise = TRUE,  # Change the direction of the slices to clockwise\n",
    "  init.angle = 90,  # Start drawing slices from the top (90 degrees)\n",
    "  cex.main = 1.5,  # Increase the size of the main title\n",
    "  cex.lab = 1.2,   # Increase the size of the labels\n",
    "  cex.axis = 0.8   # Adjust the size of the axis text\n",
    "  )\n",
    "\n",
    "legend(\"topright\", legend=profit_category$Category, fill=c(\"red\",\"blue\",\"green\"), title=\"Categories\")"
   ]
  },
  {
   "cell_type": "markdown",
   "id": "b64bf1c4",
   "metadata": {},
   "source": [
    "7.Sales by month? By category? By subcategory?"
   ]
  },
  {
   "cell_type": "code",
   "execution_count": 49,
   "id": "1468b80c",
   "metadata": {},
   "outputs": [
    {
     "name": "stdout",
     "output_type": "stream",
     "text": [
      "\u001b[90m# A tibble: 17 × 2\u001b[39m\n",
      "   Sub.Category Total_Sales\n",
      "   \u001b[3m\u001b[90m<chr>\u001b[39m\u001b[23m              \u001b[3m\u001b[90m<dbl>\u001b[39m\u001b[23m\n",
      "\u001b[90m 1\u001b[39m Accessories       \u001b[4m7\u001b[24m\u001b[4m4\u001b[24m\u001b[4m9\u001b[24m238\n",
      "\u001b[90m 2\u001b[39m Appliances       1\u001b[4m0\u001b[24m\u001b[4m1\u001b[24m\u001b[4m1\u001b[24m065\n",
      "\u001b[90m 3\u001b[39m Art               \u001b[4m3\u001b[24m\u001b[4m7\u001b[24m\u001b[4m2\u001b[24m092\n",
      "\u001b[90m 4\u001b[39m Binders           \u001b[4m4\u001b[24m\u001b[4m6\u001b[24m\u001b[4m1\u001b[24m912\n",
      "\u001b[90m 5\u001b[39m Bookcases        1\u001b[4m4\u001b[24m\u001b[4m6\u001b[24m\u001b[4m6\u001b[24m573\n",
      "\u001b[90m 6\u001b[39m Chairs           1\u001b[4m5\u001b[24m\u001b[4m0\u001b[24m\u001b[4m1\u001b[24m682\n",
      "\u001b[90m 7\u001b[39m Copiers          1\u001b[4m5\u001b[24m\u001b[4m0\u001b[24m\u001b[4m9\u001b[24m437\n",
      "\u001b[90m 8\u001b[39m Envelopes         \u001b[4m1\u001b[24m\u001b[4m7\u001b[24m\u001b[4m0\u001b[24m905\n",
      "\u001b[90m 9\u001b[39m Fasteners          \u001b[4m8\u001b[24m\u001b[4m3\u001b[24m243\n",
      "\u001b[90m10\u001b[39m Furnishings       \u001b[4m3\u001b[24m\u001b[4m8\u001b[24m\u001b[4m5\u001b[24m579\n",
      "\u001b[90m11\u001b[39m Labels             \u001b[4m7\u001b[24m\u001b[4m3\u001b[24m405\n",
      "\u001b[90m12\u001b[39m Machines          \u001b[4m7\u001b[24m\u001b[4m7\u001b[24m\u001b[4m9\u001b[24m061\n",
      "\u001b[90m13\u001b[39m Paper             \u001b[4m2\u001b[24m\u001b[4m4\u001b[24m\u001b[4m4\u001b[24m292\n",
      "\u001b[90m14\u001b[39m Phones           1\u001b[4m7\u001b[24m\u001b[4m0\u001b[24m\u001b[4m6\u001b[24m825\n",
      "\u001b[90m15\u001b[39m Storage          1\u001b[4m1\u001b[24m\u001b[4m2\u001b[24m\u001b[4m7\u001b[24m086\n",
      "\u001b[90m16\u001b[39m Supplies          \u001b[4m2\u001b[24m\u001b[4m4\u001b[24m\u001b[4m3\u001b[24m075\n",
      "\u001b[90m17\u001b[39m Tables            \u001b[4m7\u001b[24m\u001b[4m5\u001b[24m\u001b[4m7\u001b[24m042\n"
     ]
    },
    {
     "data": {
      "image/png": "[encoded data removed]",
      "text/plain": [
       "Plot with title \"Sales per Category\""
      ]
     },
     "metadata": {
      "image/png": {
       "height": 420,
       "width": 420
      }
     },
     "output_type": "display_data"
    },
    {
     "data": {
      "image/png": "[encoded data removed]",
      "text/plain": [
       "plot without title"
      ]
     },
     "metadata": {
      "image/png": {
       "height": 420,
       "width": 420
      }
     },
     "output_type": "display_data"
    }
   ],
   "source": [
    "sales_month=Stores %>% \n",
    "  select(Order.Month, Sales) %>% \n",
    "  group_by(Order.Month) %>% \n",
    "  summarise(Total_Sales=ceiling(sum(Sales)))\n",
    "\n",
    "sales_month$Order.Month <- factor(sales_month$Order.Month, levels = month.name)\n",
    "\n",
    "sales_category=Stores %>% \n",
    "  select(Category, Sales) %>% \n",
    "  group_by(Category) %>% \n",
    "  summarise(Total_Sales=ceiling(sum(Sales)))\n",
    "\n",
    "sales_subcategory=Stores %>% \n",
    "  select(Sub.Category, Sales) %>% \n",
    "  group_by(Sub.Category) %>% \n",
    "  summarise(Total_Sales=ceiling(sum(Sales)))\n",
    "\n",
    "print(sales_subcategory)\n",
    "\n",
    "pie(sales_category$Total_Sales,\n",
    "    labels = NA,\n",
    "    lwd=2,\n",
    "    main=\"Sales per Category\",\n",
    "    col=c(\"red\",\"blue\",\"green\"),\n",
    "    border = \"white\",\n",
    "    cex.main=1.5\n",
    "    )\n",
    "\n",
    "legend(\"topright\", legend = sales_category$Category, fill = c(\"red\",\"blue\",\"green\"), title = \"Categories\")\n",
    "\n",
    "ggplot(sales_month, aes(x=Order.Month, y= Total_Sales))+\n",
    "  geom_bar(stat=\"identity\", col=\"black\", fill=\"blue\")+\n",
    "  labs(title = \"Total Sales per Month\", x= \"Months\", y=\"Total Sales\")+\n",
    "  theme_minimal()+\n",
    "  theme(\n",
    "    plot.title = element_text(hjust=0.5),\n",
    "    axis.text.x = element_text(angle = 45, hjust=1)\n",
    "  )"
   ]
  }
 ],
 "metadata": {
  "kernelspec": {
   "display_name": "R",
   "language": "R",
   "name": "ir"
  },
  "language_info": {
   "codemirror_mode": "r",
   "file_extension": ".r",
   "mimetype": "text/x-r-source",
   "name": "R",
   "pygments_lexer": "r",
   "version": "4.3.1"
  }
 },
 "nbformat": 4,
 "nbformat_minor": 5
}
